{
  "nbformat": 4,
  "nbformat_minor": 0,
  "metadata": {
    "colab": {
      "name": "ErlangB.ipynb",
      "provenance": [],
      "authorship_tag": "ABX9TyOZxYfXgIew5PkIPemDeEet",
      "include_colab_link": true
    },
    "kernelspec": {
      "name": "python3",
      "display_name": "Python 3"
    }
  },
  "cells": [
    {
      "cell_type": "markdown",
      "metadata": {
        "id": "view-in-github",
        "colab_type": "text"
      },
      "source": [
        "<a href=\"https://colab.research.google.com/github/brianjalaian/ece5486/blob/main/ErlangB.ipynb\" target=\"_parent\"><img src=\"https://colab.research.google.com/assets/colab-badge.svg\" alt=\"Open In Colab\"/></a>"
      ]
    },
    {
      "cell_type": "markdown",
      "metadata": {
        "id": "iIS5wgozvac4"
      },
      "source": [
        "## This is ElangB Notebook"
      ]
    },
    {
      "cell_type": "code",
      "metadata": {
        "id": "P7pSXJtFvRde"
      },
      "source": [
        "from math import factorial\n",
        "def ErlangB (E, m):\n",
        "  #E would be rpho which is utilization, m would be number of servers\n",
        "    InvB = 1.0\n",
        "    for j in range(1, m+1):\n",
        "        InvB = 1.0 + InvB * (j/E)\n",
        "    return (1.0 / InvB)\n",
        "\n",
        "def ErlangC(A, N):\n",
        "    L = (A**N / factorial(N)) * (N / (N - A))\n",
        "    sum_ = 0\n",
        "    for i in range(N):\n",
        "        sum_ += (A**i) / factorial(i)\n",
        "    return (L / (sum_ + L))\n"
      ],
      "execution_count": 3,
      "outputs": []
    },
    {
      "cell_type": "code",
      "metadata": {
        "colab": {
          "base_uri": "https://localhost:8080/"
        },
        "id": "AzQKo00TvYAX",
        "outputId": "993633f7-146c-4c41-f1bf-1ca3e3189267"
      },
      "source": [
        "ErlangB(44,50)"
      ],
      "execution_count": 5,
      "outputs": [
        {
          "output_type": "execute_result",
          "data": {
            "text/plain": [
              "0.04549177059037565"
            ]
          },
          "metadata": {
            "tags": []
          },
          "execution_count": 5
        }
      ]
    },
    {
      "cell_type": "markdown",
      "metadata": {
        "id": "VsQsE8AdvxFw"
      },
      "source": [
        "Plotting ErlangB"
      ]
    },
    {
      "cell_type": "code",
      "metadata": {
        "colab": {
          "base_uri": "https://localhost:8080/",
          "height": 295
        },
        "id": "wBdsdbFnvzE4",
        "outputId": "ac307550-1a90-4aa2-ecdd-7d885941ccd9"
      },
      "source": [
        "import matplotlib\n",
        "import matplotlib.pyplot as plt\n",
        "import numpy as np\n",
        "\n",
        "# Data for plotting\n",
        "# Different utilization (rpho in lecture notes)\n",
        "A = np.arange(0.1, 100.0, 0.01)\n",
        "#s = 1 + np.sin(2 * np.pi * t)\n",
        "P = ErlangB(A,5)\n",
        "\n",
        "fig, ax = plt.subplots()\n",
        "ax.plot(A, P)\n",
        "\n",
        "ax.set(xlabel='Traffic Intensity in Erlangs (A)', ylabel='Probability of Blockage',\n",
        "       title='About as simple as it gets, folks')\n",
        "ax.grid()\n",
        "\n",
        "fig.savefig(\"test.png\")\n",
        "plt.show()\n"
      ],
      "execution_count": 6,
      "outputs": [
        {
          "output_type": "display_data",
          "data": {
            "image/png": "[encoded data removed]",
            "text/plain": [
              "<Figure size 432x288 with 1 Axes>"
            ]
          },
          "metadata": {
            "tags": [],
            "needs_background": "light"
          }
        }
      ]
    },
    {
      "cell_type": "code",
      "metadata": {
        "id": "YYpVz5bVv36r"
      },
      "source": [
        ""
      ],
      "execution_count": null,
      "outputs": []
    }
  ]
}